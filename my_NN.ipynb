{
 "cells": [
  {
   "cell_type": "code",
   "execution_count": 1,
   "metadata": {
    "ExecuteTime": {
     "end_time": "2020-06-03T20:16:05.290602Z",
     "start_time": "2020-06-03T20:16:05.284552Z"
    }
   },
   "outputs": [],
   "source": [
    "import numpy as np"
   ]
  },
  {
   "cell_type": "code",
   "execution_count": 2,
   "metadata": {
    "ExecuteTime": {
     "end_time": "2020-06-03T20:16:05.923452Z",
     "start_time": "2020-06-03T20:16:05.916602Z"
    }
   },
   "outputs": [],
   "source": [
    "def sigmoid(x):\n",
    "    return 1/(1 + np.exp(-x))"
   ]
  },
  {
   "cell_type": "code",
   "execution_count": 3,
   "metadata": {
    "ExecuteTime": {
     "end_time": "2020-06-03T20:16:06.391173Z",
     "start_time": "2020-06-03T20:16:06.385038Z"
    }
   },
   "outputs": [],
   "source": [
    "def sigmoid_derivative(x):\n",
    "    return sigmoid(x)*(1-sigmoid(x))"
   ]
  },
  {
   "cell_type": "code",
   "execution_count": 165,
   "metadata": {
    "ExecuteTime": {
     "end_time": "2020-06-03T21:52:10.202021Z",
     "start_time": "2020-06-03T21:52:10.175882Z"
    }
   },
   "outputs": [],
   "source": [
    "class NeuralNetwork:\n",
    "    def __init__(self, x, y, learning_rate=2, reg=False, reg_parameter=0.5):\n",
    "        self.input          =   x\n",
    "        self.weights1       =   np.random.rand(self.input.shape[1],4) \n",
    "        self.weights2       =   np.random.rand(4,3)\n",
    "        self.weights3       =   np.random.rand(3,1)\n",
    "        self.y              =   y\n",
    "        self.output         =   np.zeros(y.shape)\n",
    "        self.learn_rate     =   learning_rate\n",
    "        self.reg            =   reg\n",
    "        self.reg_parameter  =   reg_parameter\n",
    "        \n",
    "    def feedforward(self):\n",
    "        # Computing A_1\n",
    "        self.z_1 = np.dot(self.input, self.weights1)\n",
    "        self.layer1 = sigmoid(self.z_1)\n",
    "        \n",
    "        # Computing A_2\n",
    "        self.z_2 = np.dot(self.layer1, self.weights2)\n",
    "        self.layer2 = sigmoid(self.z_2)\n",
    "        \n",
    "        # Computing A_3\n",
    "        self.z_3 = np.dot(self.layer2, self.weights3)\n",
    "        self.output = sigmoid(self.z_3)\n",
    "        \n",
    "    def backprop(self):\n",
    "        # application of the chain rule to find derivative of the loss function with respect to w1, w2 and w3\n",
    "\n",
    "        # No regularization\n",
    "        if(self.reg==False):\n",
    "            d_error1 = 2*(self.y - self.output) * sigmoid_derivative(self.z_3)\n",
    "            d_weights3 = np.dot(self.layer2.T, d_error1)\n",
    "            \n",
    "            d_error2 = np.dot(d_error1, self.weights3.T) * sigmoid_derivative(self.z_2)\n",
    "            d_weights2 = np.dot(self.layer1.T, d_error2)\n",
    "            \n",
    "            d_error3 = np.dot(d_error2, self.weights2.T) * sigmoid_derivative(self.z_1)\n",
    "            d_weights1 = np.dot(self.input.T, d_error3)\n",
    "\n",
    "            # update the weights\n",
    "            self.weights3 -= self.learn_rate*d_weights3\n",
    "            self.weights2 -= self.learn_rate*d_weights2\n",
    "            self.weights1 -= self.learn_rate*d_weights1\n",
    "\n",
    "\n",
    "        # Using regularization\n",
    "        else:\n",
    "\n",
    "            d_error1 = 2*(self.y - self.output) * sigmoid_derivative(self.z_3)\n",
    "            reg_term1 = np.dot((self.reg_parameter/2), self.weights3)\n",
    "            d_weights3 = np.dot(self.layer2.T, d_error1) + reg_term1\n",
    "\n",
    "            d_error2 = np.dot(d_error1, self.weights3.T) * sigmoid_derivative(self.z_2)\n",
    "            reg_term2 = np.dot((self.reg_parameter/2), self.weights2)\n",
    "            d_weights2 = np.dot(self.layer1.T, d_error2) + reg_term2\n",
    "            \n",
    "            \n",
    "            d_error3 = np.dot(d_error2, self.weights2.T) * sigmoid_derivative(self.z_1)\n",
    "            reg_term3 = np.dot((self.reg_parameter/2), self.weights1)\n",
    "            d_weights1 = np.dot(self.input.T, d_error3) + reg_term3\n",
    "\n",
    "            # update the weights\n",
    "            self.weights3 -= self.learn_rate*d_weights3\n",
    "            self.weights2 -= self.learn_rate*d_weights2\n",
    "            self.weights1 -= self.learn_rate*d_weights1\n",
    "        \n",
    "        \n",
    "    def predict(self, x):\n",
    "        self.input = x\n",
    "        self.feedforward()\n",
    "        return self.output\n",
    "        "
   ]
  },
  {
   "cell_type": "code",
   "execution_count": 166,
   "metadata": {
    "ExecuteTime": {
     "end_time": "2020-06-03T21:52:10.783828Z",
     "start_time": "2020-06-03T21:52:10.777226Z"
    }
   },
   "outputs": [],
   "source": [
    "x = np.array([[0, 0, 1],\n",
    "              [0, 1, 1],\n",
    "              [1, 0, 1],\n",
    "              [1, 1, 1]])"
   ]
  },
  {
   "cell_type": "code",
   "execution_count": 167,
   "metadata": {
    "ExecuteTime": {
     "end_time": "2020-06-03T21:52:11.288052Z",
     "start_time": "2020-06-03T21:52:11.279160Z"
    }
   },
   "outputs": [],
   "source": [
    "x_test = np.array([[1, 0, 1],\n",
    "                   [0, 0, 0],\n",
    "                   [1, 1, 0],\n",
    "                   [1, 1, 1]])"
   ]
  },
  {
   "cell_type": "code",
   "execution_count": 168,
   "metadata": {
    "ExecuteTime": {
     "end_time": "2020-06-03T21:52:11.737561Z",
     "start_time": "2020-06-03T21:52:11.729453Z"
    }
   },
   "outputs": [],
   "source": [
    "y = np.array([0, 1, 1, 0])\n",
    "y = y.reshape([4,1])"
   ]
  },
  {
   "cell_type": "code",
   "execution_count": 169,
   "metadata": {
    "ExecuteTime": {
     "end_time": "2020-06-03T21:52:12.359150Z",
     "start_time": "2020-06-03T21:52:12.350380Z"
    }
   },
   "outputs": [],
   "source": [
    "my_nn = NeuralNetwork(x,y)"
   ]
  },
  {
   "cell_type": "code",
   "execution_count": 170,
   "metadata": {
    "ExecuteTime": {
     "end_time": "2020-06-03T21:52:13.266337Z",
     "start_time": "2020-06-03T21:52:13.259722Z"
    },
    "tags": []
   },
   "outputs": [],
   "source": [
    "my_nn.feedforward()\n",
    "my_nn.backprop()"
   ]
  },
  {
   "cell_type": "code",
   "execution_count": 171,
   "metadata": {
    "ExecuteTime": {
     "end_time": "2020-06-03T21:52:13.892182Z",
     "start_time": "2020-06-03T21:52:13.698880Z"
    },
    "tags": []
   },
   "outputs": [],
   "source": [
    "niter = 20\n",
    "for i in range(0, niter):\n",
    "    my_nn.feedforward()\n",
    "    my_nn.backprop()\n",
    "    "
   ]
  },
  {
   "cell_type": "code",
   "execution_count": 172,
   "metadata": {
    "ExecuteTime": {
     "end_time": "2020-06-03T21:52:14.283280Z",
     "start_time": "2020-06-03T21:52:14.271741Z"
    }
   },
   "outputs": [
    {
     "output_type": "execute_result",
     "data": {
      "text/plain": "array([[2.59050154],\n       [2.15122381],\n       [2.10594455]])"
     },
     "metadata": {},
     "execution_count": 172
    }
   ],
   "source": [
    "my_nn.weights3"
   ]
  },
  {
   "cell_type": "code",
   "execution_count": 173,
   "metadata": {
    "ExecuteTime": {
     "end_time": "2020-06-03T21:52:15.261178Z",
     "start_time": "2020-06-03T21:52:15.251016Z"
    }
   },
   "outputs": [
    {
     "output_type": "execute_result",
     "data": {
      "text/plain": "array([[0.99784531],\n       [0.99604441],\n       [0.99779067],\n       [0.99815775]])"
     },
     "metadata": {},
     "execution_count": 173
    }
   ],
   "source": [
    "my_nn.predict(x_test)"
   ]
  },
  {
   "cell_type": "code",
   "execution_count": null,
   "metadata": {},
   "outputs": [],
   "source": []
  }
 ],
 "metadata": {
  "kernelspec": {
   "display_name": "Python 3",
   "language": "python",
   "name": "python3"
  },
  "language_info": {
   "codemirror_mode": {
    "name": "ipython",
    "version": 3
   },
   "file_extension": ".py",
   "mimetype": "text/x-python",
   "name": "python",
   "nbconvert_exporter": "python",
   "pygments_lexer": "ipython3",
   "version": "3.6.9-final"
  },
  "toc": {
   "base_numbering": 1,
   "nav_menu": {},
   "number_sections": true,
   "sideBar": true,
   "skip_h1_title": false,
   "title_cell": "Table of Contents",
   "title_sidebar": "Contents",
   "toc_cell": false,
   "toc_position": {},
   "toc_section_display": true,
   "toc_window_display": false
  }
 },
 "nbformat": 4,
 "nbformat_minor": 2
}