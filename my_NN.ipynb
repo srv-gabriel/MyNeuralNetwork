{
 "cells": [
  {
   "cell_type": "code",
   "execution_count": 6,
   "metadata": {
    "ExecuteTime": {
     "end_time": "2020-06-03T20:16:05.290602Z",
     "start_time": "2020-06-03T20:16:05.284552Z"
    }
   },
   "outputs": [],
   "source": [
    "import numpy as np"
   ]
  },
  {
   "cell_type": "code",
   "execution_count": 7,
   "metadata": {
    "ExecuteTime": {
     "end_time": "2020-06-03T20:16:05.923452Z",
     "start_time": "2020-06-03T20:16:05.916602Z"
    }
   },
   "outputs": [],
   "source": [
    "def sigmoid(x):\n",
    "    return 1/(1 + np.exp(-x))"
   ]
  },
  {
   "cell_type": "code",
   "execution_count": 8,
   "metadata": {
    "ExecuteTime": {
     "end_time": "2020-06-03T20:16:06.391173Z",
     "start_time": "2020-06-03T20:16:06.385038Z"
    }
   },
   "outputs": [],
   "source": [
    "def sigmoid_derivative(x):\n",
    "    return sigmoid(x)*(1-sigmoid(x))"
   ]
  },
  {
   "cell_type": "code",
   "execution_count": 183,
   "metadata": {
    "ExecuteTime": {
     "end_time": "2020-06-03T21:52:10.202021Z",
     "start_time": "2020-06-03T21:52:10.175882Z"
    }
   },
   "outputs": [],
   "source": [
    "class NeuralNetwork:\n",
    "    def __init__(self, x, y, learning_rate=2):\n",
    "        self.input      = x\n",
    "        self.weights1   = np.random.rand(self.input.shape[1],4) \n",
    "        self.weights2   = np.random.rand(4,3)\n",
    "        self.weights3   = np.random.rand(3,1)\n",
    "        self.y          = y\n",
    "        self.output     = np.zeros(y.shape)\n",
    "        self.learn_rate = learning_rate\n",
    "        \n",
    "    def feedforward(self):\n",
    "        # Computing A_1\n",
    "        self.z_1 = np.dot(self.input, self.weights1)\n",
    "        self.layer1 = sigmoid(self.z_1)\n",
    "        \n",
    "        # Computing A_2\n",
    "        self.z_2 = np.dot(self.layer1, self.weights2)\n",
    "        self.layer2 = sigmoid(self.z_2)\n",
    "        \n",
    "        # Computing A_3\n",
    "        self.z_3 = np.dot(self.layer2, self.weights3)\n",
    "        self.output = sigmoid(self.z_3)\n",
    "        \n",
    "    def backprop(self):\n",
    "        # application of the chain rule to find derivative of the loss function with respect to w1, w2 and w3\n",
    "        d_error1 = 2*(self.y - self.output) * sigmoid_derivative(self.z_3)\n",
    "        d_weights3 = np.dot(self.layer2.T, d_error1)\n",
    "        \n",
    "        d_error2 = np.dot(d_error1, self.weights3.T) * sigmoid_derivative(self.z_2)\n",
    "        d_weights2 = np.dot(self.layer1.T, d_error2)\n",
    "        \n",
    "        d_error3 = np.dot(d_error2, self.weights2.T) * sigmoid_derivative(self.z_1)\n",
    "        d_weights1 = np.dot(self.input.T, d_error3) \n",
    " \n",
    "\n",
    "        # update the weights\n",
    "        self.weights3 += self.learn_rate*d_weights3\n",
    "        self.weights2 += self.learn_rate*d_weights2\n",
    "        self.weights1 += self.learn_rate*d_weights1\n",
    "        \n",
    "        \n",
    "    def predict(self, x):\n",
    "        self.input = x\n",
    "        self.feedforward()\n",
    "        return self.output\n",
    "        "
   ]
  },
  {
   "cell_type": "code",
   "execution_count": 184,
   "metadata": {
    "ExecuteTime": {
     "end_time": "2020-06-03T21:52:10.783828Z",
     "start_time": "2020-06-03T21:52:10.777226Z"
    }
   },
   "outputs": [],
   "source": [
    "x = np.array([[0, 0, 1],\n",
    "              [0, 1, 1],\n",
    "              [1, 0, 1],\n",
    "              [1, 1, 1]])"
   ]
  },
  {
   "cell_type": "code",
   "execution_count": 185,
   "metadata": {
    "ExecuteTime": {
     "end_time": "2020-06-03T21:52:11.288052Z",
     "start_time": "2020-06-03T21:52:11.279160Z"
    }
   },
   "outputs": [],
   "source": [
    "x_test = np.array([[1, 0, 1],\n",
    "                   [0, 0, 0],\n",
    "                   [1, 1, 0],\n",
    "                   [1, 1, 1]])"
   ]
  },
  {
   "cell_type": "code",
   "execution_count": 186,
   "metadata": {
    "ExecuteTime": {
     "end_time": "2020-06-03T21:52:11.737561Z",
     "start_time": "2020-06-03T21:52:11.729453Z"
    }
   },
   "outputs": [],
   "source": [
    "y = np.array([0, 1, 1, 0])\n",
    "y = y.reshape([4,1])"
   ]
  },
  {
   "cell_type": "code",
   "execution_count": 187,
   "metadata": {
    "ExecuteTime": {
     "end_time": "2020-06-03T21:52:12.359150Z",
     "start_time": "2020-06-03T21:52:12.350380Z"
    }
   },
   "outputs": [],
   "source": [
    "my_nn = NeuralNetwork(x,y)"
   ]
  },
  {
   "cell_type": "code",
   "execution_count": 188,
   "metadata": {
    "ExecuteTime": {
     "end_time": "2020-06-03T21:52:13.266337Z",
     "start_time": "2020-06-03T21:52:13.259722Z"
    }
   },
   "outputs": [],
   "source": [
    "my_nn.feedforward()\n",
    "my_nn.backprop()"
   ]
  },
  {
   "cell_type": "code",
   "execution_count": 189,
   "metadata": {
    "ExecuteTime": {
     "end_time": "2020-06-03T21:52:13.892182Z",
     "start_time": "2020-06-03T21:52:13.698880Z"
    }
   },
   "outputs": [],
   "source": [
    "niter = 1500\n",
    "for i in range(0, niter):\n",
    "    my_nn.feedforward()\n",
    "    my_nn.backprop()\n",
    "    "
   ]
  },
  {
   "cell_type": "code",
   "execution_count": 190,
   "metadata": {
    "ExecuteTime": {
     "end_time": "2020-06-03T21:52:14.283280Z",
     "start_time": "2020-06-03T21:52:14.271741Z"
    }
   },
   "outputs": [
    {
     "data": {
      "text/plain": [
       "array([[ 4.230082  ],\n",
       "       [ 4.46002193],\n",
       "       [-7.86135024]])"
      ]
     },
     "execution_count": 190,
     "metadata": {},
     "output_type": "execute_result"
    }
   ],
   "source": [
    "my_nn.weights3"
   ]
  },
  {
   "cell_type": "code",
   "execution_count": 191,
   "metadata": {
    "ExecuteTime": {
     "end_time": "2020-06-03T21:52:15.261178Z",
     "start_time": "2020-06-03T21:52:15.251016Z"
    }
   },
   "outputs": [
    {
     "data": {
      "text/plain": [
       "array([[0.99043307],\n",
       "       [0.05911831],\n",
       "       [0.01387295],\n",
       "       [0.01239391]])"
      ]
     },
     "execution_count": 191,
     "metadata": {},
     "output_type": "execute_result"
    }
   ],
   "source": [
    "my_nn.predict(x_test)"
   ]
  },
  {
   "cell_type": "code",
   "execution_count": null,
   "metadata": {},
   "outputs": [],
   "source": []
  }
 ],
 "metadata": {
  "kernelspec": {
   "display_name": "Python 3",
   "language": "python",
   "name": "python3"
  },
  "language_info": {
   "codemirror_mode": {
    "name": "ipython",
    "version": 3
   },
   "file_extension": ".py",
   "mimetype": "text/x-python",
   "name": "python",
   "nbconvert_exporter": "python",
   "pygments_lexer": "ipython3",
   "version": "3.7.4"
  },
  "toc": {
   "base_numbering": 1,
   "nav_menu": {},
   "number_sections": true,
   "sideBar": true,
   "skip_h1_title": false,
   "title_cell": "Table of Contents",
   "title_sidebar": "Contents",
   "toc_cell": false,
   "toc_position": {},
   "toc_section_display": true,
   "toc_window_display": false
  }
 },
 "nbformat": 4,
 "nbformat_minor": 2
}
